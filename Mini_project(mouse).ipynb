{
 "cells": [
  {
   "cell_type": "code",
   "execution_count": 1,
   "id": "b65ec604-0ef2-4ec3-82ad-c24a88d797b1",
   "metadata": {},
   "outputs": [
    {
     "name": "stdout",
     "output_type": "stream",
     "text": [
      "Requirement already satisfied: opencv-python in f:\\anaconda\\envs\\image-processing\\lib\\site-packages (4.9.0.80)\n",
      "Requirement already satisfied: numpy>=1.21.2 in f:\\anaconda\\envs\\image-processing\\lib\\site-packages (from opencv-python) (1.26.4)\n"
     ]
    }
   ],
   "source": [
    "!pip install opencv-python"
   ]
  },
  {
   "cell_type": "code",
   "execution_count": 2,
   "id": "c1f6c911-c776-47ed-a58f-98e067e4fec8",
   "metadata": {},
   "outputs": [],
   "source": [
    "import numpy as np \n",
    "import cv2 \n",
    "import matplotlib.pyplot as plt"
   ]
  },
  {
   "cell_type": "code",
   "execution_count": 23,
   "id": "b3670050-33b2-4876-b6db-eecc45aa51b6",
   "metadata": {},
   "outputs": [],
   "source": [
    "start , end= False , False\n",
    "top_left , bottom_right = (-1 , -1) , (-1 , -1)\n",
    "\n",
    "def mouse_callback_function(event , x , y , flags , params):\n",
    "    global start , top_left , bottom_right\n",
    "    if event == cv2.EVENT_MOUSEMOVE:\n",
    "        img_copy = img.copy()\n",
    "        cv2.line(img_copy , (x , 0) , (x , rows) , (0 , 0 , 0) , thickness = 1)  #vertical\n",
    "        cv2.line(img_copy , (0 , y) , (cols , y) , (0 , 0 , 0) , thickness = 1)  #horizontal\n",
    "        if start:\n",
    "            cv2.line(img_copy , (top_left[0] , 0) , (top_left[0] , rows) , (255 , 0 , 0) , thickness = 1)  \n",
    "            cv2.line(img_copy , (0 , top_left[1]) , (cols , top_left[1]) , (255 , 0 , 0) , thickness = 1)  \n",
    "        cv2.imshow('Image' , img_copy)\n",
    "\n",
    "    \n",
    "    elif event == cv2.EVENT_LBUTTONDOWN:\n",
    "        if start:\n",
    "            end = True\n",
    "            bottom_right= (x, y)\n",
    "            cv2.rectangle(img , top_left , bottom_right , (255 , 0 , 0) , thickness = 3)\n",
    "            cv2.imshow('Image' , img)\n",
    "            start , end = False, False\n",
    "        else:   \n",
    "            img_copy = img.copy()\n",
    "            top_left = (x , y)\n",
    "            start = True \n",
    "            cv2.line(img_copy , (x , 0) , (x , rows) , (255 , 0 , 0) , thickness = 1)  #vertical\n",
    "            cv2.line(img_copy , (0 , y) , (cols , y) , (255 , 0 , 0) , thickness = 1)  #horizontal\n",
    "            cv2.imshow('Image' , img_copy)\n",
    "        \n",
    "\n",
    "img = cv2.imread(\"week_5-opencv-huHUaLjYwc327VpNPJMKgA/data/cute-cats.bmp\")\n",
    "rows , cols , _ = img.shape\n",
    "\n",
    "cv2.namedWindow('Image')\n",
    "cv2.setMouseCallback('Image' , mouse_callback_function)\n",
    "\n",
    "\n",
    "cv2.imshow('Image' , img)\n",
    "cv2.waitKey()\n",
    "cv2.destroyAllWindows()"
   ]
  },
  {
   "cell_type": "code",
   "execution_count": 12,
   "id": "6d65a447-78de-49a1-8725-f04a64c94f99",
   "metadata": {},
   "outputs": [
    {
     "data": {
      "text/plain": [
       "\u001b[1;31mDocstring:\u001b[0m\n",
       "line(img, pt1, pt2, color[, thickness[, lineType[, shift]]]) -> img\n",
       ".   @brief Draws a line segment connecting two points.\n",
       ".   \n",
       ".   The function line draws the line segment between pt1 and pt2 points in the image. The line is\n",
       ".   clipped by the image boundaries. For non-antialiased lines with integer coordinates, the 8-connected\n",
       ".   or 4-connected Bresenham algorithm is used. Thick lines are drawn with rounding endings. Antialiased\n",
       ".   lines are drawn using Gaussian filtering.\n",
       ".   \n",
       ".   @param img Image.\n",
       ".   @param pt1 First point of the line segment.\n",
       ".   @param pt2 Second point of the line segment.\n",
       ".   @param color Line color.\n",
       ".   @param thickness Line thickness.\n",
       ".   @param lineType Type of the line. See #LineTypes.\n",
       ".   @param shift Number of fractional bits in the point coordinates.\n",
       "\u001b[1;31mType:\u001b[0m      builtin_function_or_method"
      ]
     },
     "metadata": {},
     "output_type": "display_data"
    }
   ],
   "source": [
    "cv2.line?"
   ]
  },
  {
   "cell_type": "code",
   "execution_count": null,
   "id": "f661477a-df00-47a6-81c2-e5025e98668b",
   "metadata": {},
   "outputs": [],
   "source": []
  }
 ],
 "metadata": {
  "kernelspec": {
   "display_name": "Python 3 (ipykernel)",
   "language": "python",
   "name": "python3"
  },
  "language_info": {
   "codemirror_mode": {
    "name": "ipython",
    "version": 3
   },
   "file_extension": ".py",
   "mimetype": "text/x-python",
   "name": "python",
   "nbconvert_exporter": "python",
   "pygments_lexer": "ipython3",
   "version": "3.11.9"
  }
 },
 "nbformat": 4,
 "nbformat_minor": 5
}
